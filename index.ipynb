{
 "cells": [
  {
   "cell_type": "markdown",
   "metadata": {},
   "source": [
    "# Conditional Probability - Lab"
   ]
  },
  {
   "cell_type": "markdown",
   "metadata": {},
   "source": [
    "## Introduction\n",
    "\n",
    "In order to be ready for real world applications of probability, it is important to understand what happens when probabilities are not independent. Very often, the probability of a certain event depends on other events happening! Let's see how this all works in this lab.\n",
    "\n",
    "## Objectives"
   ]
  },
  {
   "cell_type": "markdown",
   "metadata": {},
   "source": [
    "You will be able to:\n",
    "\n",
    "- Understand and Explain the conditional probability - P(A∩B) = P(A|B) x P(B)\n",
    "- Use the multiplication rule to find the probability of the intersection of two events\n",
    "- Apply the techniques learned in the lesson to simple problems\n"
   ]
  },
  {
   "cell_type": "markdown",
   "metadata": {},
   "source": [
    "## Exercise 1\n",
    "A coin is tossed and a single 6-sided die is rolled. Find the probability of landing on the head side of the coin and rolling a 3 on the die."
   ]
  },
  {
   "cell_type": "code",
   "execution_count": 3,
   "metadata": {},
   "outputs": [
    {
     "data": {
      "text/plain": [
       "0.08333333333333333"
      ]
     },
     "execution_count": 3,
     "metadata": {},
     "output_type": "execute_result"
    }
   ],
   "source": [
    "# Your solution\n",
    "heads = 1/2\n",
    "roll_3 = 1/6\n",
    "prob = (heads*roll_3)\n",
    "prob"
   ]
  },
  {
   "cell_type": "markdown",
   "metadata": {},
   "source": [
    "## Exercise 2\n",
    "A school survey found that 9 out of 10 students like pizza. If three students are chosen at random **with replacement**, what is the probability that all three students like pizza?"
   ]
  },
  {
   "cell_type": "code",
   "execution_count": 4,
   "metadata": {},
   "outputs": [
    {
     "data": {
      "text/plain": [
       "0.7290000000000001"
      ]
     },
     "execution_count": 4,
     "metadata": {},
     "output_type": "execute_result"
    }
   ],
   "source": [
    "# Your Solution\n",
    "0.9**3"
   ]
  },
  {
   "cell_type": "markdown",
   "metadata": {},
   "source": [
    "## Exercise 3\n",
    "70% of your friends like Chocolate flavored ice cream , and 35% like Chocolate AND like Strawberry flavors.\n",
    "\n",
    "What percent of those who like Chocolate also like Strawberry?"
   ]
  },
  {
   "cell_type": "code",
   "execution_count": 5,
   "metadata": {},
   "outputs": [
    {
     "data": {
      "text/plain": [
       "0.5"
      ]
     },
     "execution_count": 5,
     "metadata": {},
     "output_type": "execute_result"
    }
   ],
   "source": [
    "# Your solution \n",
    "0.35/0.70"
   ]
  },
  {
   "cell_type": "markdown",
   "metadata": {},
   "source": [
    "50% of your friends who like Chocolate also like Strawberry"
   ]
  },
  {
   "cell_type": "markdown",
   "metadata": {},
   "source": [
    "## Exercise 4\n",
    "What is the probability of drawing 2 consecutive Aces from a Deck of cards. "
   ]
  },
  {
   "cell_type": "code",
   "execution_count": 10,
   "metadata": {},
   "outputs": [
    {
     "data": {
      "text/plain": [
       "0.07692307692307693"
      ]
     },
     "execution_count": 10,
     "metadata": {},
     "output_type": "execute_result"
    }
   ],
   "source": [
    "# Given Solution\n",
    "# P(A) = 4/52 = 1/13\n",
    "# P(B) = 3/51\n",
    "# P(A)*P(B) = 1/13*3/51 = 0.004524886877828055\n",
    "\n",
    "# However, according to Bayes theorem:\n",
    "\n",
    "# question: what is the probability of consecutively drawing 2 aces given that you have drawn 1 ace already?\n",
    "# P(2 Aces| 1 Ace) = P(1 Ace| 2 Aces)*P(2 Aces) / P(1 Ace)\n",
    "\n",
    "# P(A) = P(2 Aces) = 1/13 * 3/51\n",
    "# P(B|A) = P(1 Ace|2 Aces) the probability of drawing one ace given that you draw two - this is 100% or 1\n",
    "# P(B) = P(1 Ace) = 1/13\n",
    "# P(A|B) = 1 * (1/13*3/51) / (3/51) = 0.07692307692307693\n",
    "\n",
    "(1 * 1/13*3/51) / (3/51)"
   ]
  },
  {
   "cell_type": "markdown",
   "metadata": {},
   "source": [
    "## Exercise 5\n",
    "In a manufacturing factory that produces a certain product, there are 100 units of the product, 5 of which are defective. We pick three units from the 100 units at random. \n",
    "\n",
    "What is the probability that none of them are defective?\n",
    "Hint: Use chain rule"
   ]
  },
  {
   "cell_type": "code",
   "execution_count": 16,
   "metadata": {},
   "outputs": [
    {
     "data": {
      "text/plain": [
       "0.8559987631416203"
      ]
     },
     "execution_count": 16,
     "metadata": {},
     "output_type": "execute_result"
    }
   ],
   "source": [
    "# Your solution\n",
    "0.95*(1 - 5/99)*(1 - 5/98)"
   ]
  },
  {
   "cell_type": "markdown",
   "metadata": {},
   "source": [
    "## Exercise 6"
   ]
  },
  {
   "cell_type": "markdown",
   "metadata": {},
   "source": [
    "Let's consider the example where 2 dice are thrown. Given that **at least one** of the dice has come up on a number higher than 4, what is the probability that the sum is 8?\n",
    "\n",
    "Let i,j be the numbers shown on the dice . Denote events as below:\n",
    "\n",
    "* **Event A is when Either i Or j is 5 or 6** (Keep an eye on either - or)\n",
    "* **Event B is when i + j = 8**\n",
    "\n",
    "\n",
    "* What is the size of sample space Ω ?\n",
    "* What is P(A ∩ B) ?\n",
    "* What is P(A) ?\n",
    "* Use above to calculate P(B|A) ."
   ]
  },
  {
   "cell_type": "markdown",
   "metadata": {},
   "source": [
    "solution\n",
    "$A:= {(i,j) \\in \\Omega \\mid \\text{either i or j is 5 or 6}}$\n",
    "\n",
    "$B:= {(i,j)\\in \\Omega \\mid i+j = 8}$\n",
    "\n",
    "In total, there are possible 36 outcomes, so Ω = 36.\n",
    "\n",
    "P(A) = 20/36 - Event A has 20 possible outcomes out of 36 - ( five in each case * 4 )\n",
    "\n",
    "P(A ∩ B) = 4/36 - Event B has 4 possible outcomes out of 36 - (2 and 6, 3 and 5, 6 and 2, 5 and 3)\n",
    "\n",
    "We want to know what the probability of B is given A, so $P(B \\mid A)= \\dfrac{P(B\\cap A)}{P(A)}$. This leads to:"
   ]
  },
  {
   "cell_type": "code",
   "execution_count": 31,
   "metadata": {},
   "outputs": [
    {
     "data": {
      "text/plain": [
       "0.046296296296296294"
      ]
     },
     "execution_count": 31,
     "metadata": {},
     "output_type": "execute_result"
    }
   ],
   "source": [
    "p_B_given_A = (4/36)/(20/36) \n",
    "p_B_given_A\n",
    "\n"
   ]
  },
  {
   "cell_type": "code",
   "execution_count": null,
   "metadata": {},
   "outputs": [],
   "source": [
    "# P(B|A) = P(Sum 8| 5 or 6) = probability of the die summing to 8 given the first roll is a 5 or 6 \n",
    "\n",
    "# The die can only be 2 or 3 if we already have 5 or 6\n",
    "# Probability of 2 or 3 is 2/6 = 1/3"
   ]
  },
  {
   "cell_type": "markdown",
   "metadata": {},
   "source": [
    "## Exercise 7\n",
    "\n",
    "Let's consider a credit card example. At a supermarket, we randomly select customers and make notes of whether a given customer owns a Visa card (event A) or an Amex credit card (event B). Some customers own both cards.\n",
    "You can assume that:\n",
    "\n",
    "- P(A) = 0.5\n",
    "- P(B) = 0.4\n",
    "- both A and B = 0.25.\n"
   ]
  },
  {
   "cell_type": "markdown",
   "metadata": {},
   "source": [
    "With the knowledge we have about conditional probabilities, compute and interpret the following probabilities:\n",
    "\n",
    "- $P(B \\mid A)$\n",
    "- $P(B'\\mid A)$\n",
    "- $P(A\\mid B)$\n",
    "- $P(A'\\mid B)$\n"
   ]
  },
  {
   "cell_type": "code",
   "execution_count": 34,
   "metadata": {},
   "outputs": [
    {
     "data": {
      "text/plain": [
       "0.5"
      ]
     },
     "execution_count": 34,
     "metadata": {},
     "output_type": "execute_result"
    }
   ],
   "source": [
    "# Your solution\n",
    "# Of those who have a Visa (0.5), 0.25 have a Amex\n",
    "B_given_A = 0.25/0.5\n",
    "B_given_A"
   ]
  },
  {
   "cell_type": "code",
   "execution_count": 37,
   "metadata": {},
   "outputs": [
    {
     "data": {
      "text/plain": [
       "0.5"
      ]
     },
     "execution_count": 37,
     "metadata": {},
     "output_type": "execute_result"
    }
   ],
   "source": [
    "# Of those who have a Visa (0.5) how many don't have an Amex?\n",
    "# P(B`) = 0.6 --> don't have an Amex\n",
    "1 - 0.5\n"
   ]
  },
  {
   "cell_type": "code",
   "execution_count": 38,
   "metadata": {},
   "outputs": [
    {
     "data": {
      "text/plain": [
       "0.625"
      ]
     },
     "execution_count": 38,
     "metadata": {},
     "output_type": "execute_result"
    }
   ],
   "source": [
    "# Of those who have an Amex (0.4) how many have a visa \n",
    "0.25/0.4"
   ]
  },
  {
   "cell_type": "code",
   "execution_count": 39,
   "metadata": {},
   "outputs": [
    {
     "data": {
      "text/plain": [
       "0.375"
      ]
     },
     "execution_count": 39,
     "metadata": {},
     "output_type": "execute_result"
    }
   ],
   "source": [
    "# Of those who have an Amex, how many don't have a Visa?\n",
    "1 - 0.625"
   ]
  },
  {
   "cell_type": "markdown",
   "metadata": {},
   "source": [
    "## Summary \n",
    "\n",
    "In this lab we practiced around conditional probability and its theorem with some simple problems. The key takeaway from this lab is to to be able to identify random events as dependent or independent and calculating the probability of their occurrence using appropriate methods. Next we'll start focusing on the some more conditional probability axioms, building on the knowledge we have thus far. "
   ]
  }
 ],
 "metadata": {
  "kernelspec": {
   "display_name": "Python 3",
   "language": "python",
   "name": "python3"
  },
  "language_info": {
   "codemirror_mode": {
    "name": "ipython",
    "version": 3
   },
   "file_extension": ".py",
   "mimetype": "text/x-python",
   "name": "python",
   "nbconvert_exporter": "python",
   "pygments_lexer": "ipython3",
   "version": "3.6.6"
  }
 },
 "nbformat": 4,
 "nbformat_minor": 2
}
